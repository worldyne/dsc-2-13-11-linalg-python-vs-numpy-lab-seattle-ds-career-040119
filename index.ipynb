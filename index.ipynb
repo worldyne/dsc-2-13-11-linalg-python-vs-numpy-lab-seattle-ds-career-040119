{
 "cells": [
  {
   "cell_type": "markdown",
   "metadata": {},
   "source": [
    "# Pure Python vs. Numpy - Lab\n",
    "\n",
    "## Introduction \n",
    "\n",
    "Numpy, Scipy and Pandas libraries provide a significant increase in computational efficiency with complex mathematical operations as compared to Python's built in arithmatic functions.  In this lab we shall calculate and compare the processing speed required for calculating a dot product both using basic arithmatic operations in Python and Numpy's `.dot()` method. \n",
    "\n",
    "## Objectives\n",
    "You will be able to:\n",
    "* Compare the performance of high dimensional matrix operations in Numpy vs. pure Python"
   ]
  },
  {
   "cell_type": "markdown",
   "metadata": {},
   "source": [
    "## Problem\n",
    "> **Write a routine to calculate the dot product between two 200 x 200 dimensional matrices using:**\n",
    "\n",
    "> **a) Pure Python**\n",
    "\n",
    "> **b) Numpy's `.dot()`**\n",
    "\n",
    "\n",
    "### Create two 200 x 200 matrices in Python and fill them with random values using `np.random.rand()` "
   ]
  },
  {
   "cell_type": "code",
   "execution_count": 3,
   "metadata": {},
   "outputs": [
    {
     "name": "stdout",
     "output_type": "stream",
     "text": [
      "[[0.96502624 0.74099673 0.62757623 ... 0.13481499 0.19245861 0.11112759]\n",
      " [0.78424261 0.57875292 0.31764381 ... 0.45049086 0.90684879 0.28742216]\n",
      " [0.56825261 0.46639593 0.26324782 ... 0.95104465 0.13109228 0.29106647]\n",
      " ...\n",
      " [0.78737443 0.69673389 0.82089407 ... 0.63460104 0.97737391 0.14449612]\n",
      " [0.85414089 0.40484003 0.78799637 ... 0.45437882 0.81313699 0.83610744]\n",
      " [0.50607758 0.77137167 0.24255358 ... 0.95157446 0.33940286 0.83255231]]\n",
      "[[0.34963844 0.38938564 0.63943777 ... 0.09161091 0.29049326 0.59369325]\n",
      " [0.89376291 0.30557315 0.33731953 ... 0.8899298  0.12200903 0.68478071]\n",
      " [0.01192518 0.02857316 0.77774239 ... 0.68963357 0.34496605 0.27283713]\n",
      " ...\n",
      " [0.13492396 0.61299196 0.14984707 ... 0.50189355 0.64726306 0.657378  ]\n",
      " [0.03574363 0.72771169 0.89645901 ... 0.25931311 0.86699    0.22622403]\n",
      " [0.21871493 0.18443207 0.49046645 ... 0.73765662 0.3571744  0.30674757]]\n"
     ]
    }
   ],
   "source": [
    "# Compare 200x200 matrix-matrix multiplication speed\n",
    "import numpy as np\n",
    "\n",
    "# Set up the variables\n",
    "A = np.zeros([200, 200])\n",
    "B = np.zeros([200, 200])\n",
    "ls_mat = [A, B]\n",
    "for mat in ls_mat:\n",
    "    for row in range(0, mat.shape[0]):\n",
    "        for col in range(0, mat.shape[1]):\n",
    "            mat[row, col] = np.random.rand()\n",
    "print(A)\n",
    "print(B)\n"
   ]
  },
  {
   "cell_type": "markdown",
   "metadata": {},
   "source": [
    "### Pure Python\n",
    "\n",
    "* Initialize an zeros filled numpy matrix with necessary rows and columns for storing result. \n",
    "* In Python Calculate the dot product using the formula \n",
    "![](formula.png)\n",
    "* Use Python's `timeit` library to calculate the processing time. \n",
    "* [Visit this link](https://www.pythoncentral.io/time-a-python-function/) for an indepth explanation on how to time a function or routine in python. \n",
    "\n",
    "**Hint**: Use nested for loop for accessing, calculating and storing each scalar value in the result matrix."
   ]
  },
  {
   "cell_type": "code",
   "execution_count": 3,
   "metadata": {},
   "outputs": [
    {
     "name": "stdout",
     "output_type": "stream",
     "text": [
      "Pure Python Time: None sec.\n"
     ]
    }
   ],
   "source": [
    "import timeit\n",
    "\n",
    "# Start the timer\n",
    "start = timeit.default_timer()\n",
    "\n",
    "# Matrix multiplication in pure Python\n",
    "result = np.zeros([200, 200])\n",
    "\n",
    "for i in range(200):\n",
    "    for k in range(200):\n",
    "        for j in range(200):\n",
    "            result[i,k] += A[i, j] * B[j, k]\n",
    "time_spent = timeit.default_timer() - start\n",
    "\n",
    "print('Pure Python Time:', time_spent, 'sec.')"
   ]
  },
  {
   "cell_type": "markdown",
   "metadata": {},
   "source": [
    "## Numpy \n",
    "Set the timer and calculate the time taken by `.dot()` function for multiplying A and B \n"
   ]
  },
  {
   "cell_type": "code",
   "execution_count": 4,
   "metadata": {},
   "outputs": [
    {
     "name": "stdout",
     "output_type": "stream",
     "text": [
      "Numpy Time: None sec.\n"
     ]
    }
   ],
   "source": [
    "# start the timer\n",
    "start = None\n",
    "\n",
    "# Matrix multiplication in numpy\n",
    "\n",
    "\n",
    "time_spent = None\n",
    "print('Numpy Time:', time_spent, 'sec.')"
   ]
  },
  {
   "cell_type": "markdown",
   "metadata": {},
   "source": [
    "### Your comments "
   ]
  },
  {
   "cell_type": "markdown",
   "metadata": {},
   "source": [
    "```\n",
    "```"
   ]
  },
  {
   "cell_type": "markdown",
   "metadata": {},
   "source": [
    "## Summary\n",
    "\n",
    "In this lab, we performed a quick comparison between calculating a dot product in numpy vs python built in function. We saw that Numpy is computationally much more efficient that Python code due to highly sophisticated implementation of Numpy source code. You are encouraged to always perform such tests to fully appreciate the use of an additional library in Python. "
   ]
  }
 ],
 "metadata": {
  "kernelspec": {
   "display_name": "Python 3",
   "language": "python",
   "name": "python3"
  },
  "language_info": {
   "codemirror_mode": {
    "name": "ipython",
    "version": 3
   },
   "file_extension": ".py",
   "mimetype": "text/x-python",
   "name": "python",
   "nbconvert_exporter": "python",
   "pygments_lexer": "ipython3",
   "version": "3.6.6"
  }
 },
 "nbformat": 4,
 "nbformat_minor": 2
}
